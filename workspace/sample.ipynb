{
 "cells": [
  {
   "cell_type": "code",
   "execution_count": null,
   "id": "252ec5ab",
   "metadata": {},
   "outputs": [],
   "source": [
    "import tabpy_client\n",
    "\n",
    "client = tabpy_client.Client(\"http://localhost:9004/\")"
   ]
  },
  {
   "cell_type": "code",
   "execution_count": null,
   "id": "4f2f4e72",
   "metadata": {},
   "outputs": [],
   "source": [
    "def kmeans(_arg1, _arg2):\n",
    "    import pandas as pd\n",
    "    from sklearn.cluster import KMeans\n",
    "\n",
    "    x = pd.DataFrame(_arg1)\n",
    "    y = pd.DataFrame(_arg2)\n",
    "    d = pd.concat([x,y] , axis=1)\n",
    "    print(d)\n",
    "\n",
    "    model = KMeans(n_clusters = 2)\n",
    "    db = model.fit(d)\n",
    "\n",
    "    return db.labels_.tolist()\n",
    "\n",
    "client.deploy('kmeans',\n",
    "                kmeans,\n",
    "                'Returns cluster Ids for each data point specified by the pairs in x and y', override=True)\n"
   ]
  },
  {
   "cell_type": "code",
   "execution_count": null,
   "id": "66ff8b0a",
   "metadata": {},
   "outputs": [],
   "source": [
    "def dbscan(_arg1, _arg2):\n",
    "    import pandas as pd\n",
    "    from sklearn.cluster import DBSCAN\n",
    "\n",
    "    x = pd.DataFrame(_arg1)\n",
    "    y = pd.DataFrame(_arg2)\n",
    "    d = pd.concat([x,y] , axis=1)\n",
    "\n",
    "    db = DBSCAN(eps=0.2, min_samples=5, metric=\"euclidean\")\n",
    "    y_db = db.fit_predict(d)\n",
    "\n",
    "    return y_db.tolist()\n",
    "\n",
    "client.deploy('dbscan',\n",
    "                dbscan,\n",
    "                'Returns cluster Ids for each data point specified by the pairs in x and y', override=True)\n"
   ]
  }
 ],
 "metadata": {
  "kernelspec": {
   "display_name": "Python 3 (ipykernel)",
   "language": "python",
   "name": "python3"
  },
  "language_info": {
   "codemirror_mode": {
    "name": "ipython",
    "version": 3
   },
   "file_extension": ".py",
   "mimetype": "text/x-python",
   "name": "python",
   "nbconvert_exporter": "python",
   "pygments_lexer": "ipython3",
   "version": "3.9.14"
  }
 },
 "nbformat": 4,
 "nbformat_minor": 5
}
